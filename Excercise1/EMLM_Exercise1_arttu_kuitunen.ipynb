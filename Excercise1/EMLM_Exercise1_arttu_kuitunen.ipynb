{
 "cells": [
  {
   "cell_type": "markdown",
   "metadata": {},
   "source": [
    "Student name <br>\n",
    "Student number 000000 <br>\n",
    "Month, day, 2025  <br>"
   ]
  },
  {
   "cell_type": "markdown",
   "metadata": {},
   "source": [
    "# Exercise 1 | TKO_7092 Evaluation of Machine Learning Methods 2025"
   ]
  },
  {
   "cell_type": "markdown",
   "metadata": {},
   "source": [
    "##### Prediction of the metal ion content from multi-parameter data\n",
    "<b> Use K-Nearest Neighbor Regression with euclidean distance to predict total metal concentration (c_total), concentration of Cadmium (Cd) and concentration of Lead (Pb), using number of neighbors k = 1, 3, 5, 7.</b>\n",
    "\n",
    "    - You may use Nearest Neighbor Regression from https://scikit-learn.org/stable/modules/neighbors.html   \n",
    "    - Implement Leave-One-Out cross-validation and calculate the C-index for each output (c_total, Cd, Pb). \n",
    "    - Implement Leave-Replicas-Out cross-validation and calculate the C-index for each output (c_total, Cd, Pb).\n",
    "    - Return your solution as a Jupyter Notebook .ipynb notebook and as a PDF-file made from it. Please, add your full name to the file name.\n",
    "    - The exercise will be graded by a maximum of 2 points.\n",
    "    - Submit to moodle your solution on ** Wednesday 5 of February ** at the latest.\n",
    "  \n",
    "<b>Please be aware that you are required to submit your individual solution.<br> \n",
    "Submissions with identical or similar code will result in a failure for the exercise.</b>"
   ]
  },
  {
   "cell_type": "markdown",
   "metadata": {},
   "source": [
    "## Import libraries"
   ]
  },
  {
   "cell_type": "code",
   "execution_count": 45,
   "metadata": {
    "tags": []
   },
   "outputs": [],
   "source": [
    "# In this cell import all libraries you need. For example: \n",
    "import numpy as np\n",
    "import pandas as pd\n",
    "from scipy.stats import somersd"
   ]
  },
  {
   "cell_type": "markdown",
   "metadata": {},
   "source": [
    "## Read and visualize the dataset"
   ]
  },
  {
   "cell_type": "markdown",
   "metadata": {
    "jp-MarkdownHeadingCollapsed": true
   },
   "source": [
    "<p> <b>Note:</b> This dataset differs slightly from the one used in the video lectures. <br>\n",
    "<b>In this dataset, some mixtures have 3 replicas, while others have 4 replicas. </b> </p> \n",
    "\n",
    "In the following cell: \n",
    "- Read the file water_data.csv\n",
    "- Print the dimesions of the dataset (i.e. number of rows and columns) and display the first 5 rows.\n",
    "- Identify the inputs and the outputs columns.\n",
    "- Provide the number of mixtures with 3 replicas and 4 replicas, respectively."
   ]
  },
  {
   "cell_type": "code",
   "execution_count": 46,
   "metadata": {
    "tags": []
   },
   "outputs": [
    {
     "name": "stdout",
     "output_type": "stream",
     "text": [
      "Shape (rows, columns):\n",
      " (225, 6)\n",
      "\n",
      "First 5 rows:\n",
      "     c_total    Cd    Pb      Mod1      Mod2      Mod3\n",
      "0       0.0   0.0   0.0 -0.999216 -0.714208 -0.414911\n",
      "1       0.0   0.0   0.0 -0.990800 -0.714373 -0.238335\n",
      "2       0.0   0.0   0.0 -0.990539 -0.714125  0.020788\n",
      "3      14.0   0.0  14.0 -1.001247 -0.713546  0.945465\n",
      "4      14.0   0.0  14.0 -1.013727 -0.714125  0.569631\n",
      "..      ...   ...   ...       ...       ...       ...\n",
      "95     70.0  42.0  28.0  0.636417  0.911384  0.607959\n",
      "96     70.0  42.0  28.0  0.588631  0.502382  1.006011\n",
      "97     70.0  56.0  14.0  1.462474  2.692325  1.053050\n",
      "98     70.0  56.0  14.0  1.557985  2.081344  1.226540\n",
      "99     70.0  56.0  14.0  1.495749  2.377657  1.457141\n",
      "\n",
      "[100 rows x 6 columns]\n",
      "Inputs: Index(['Mod1', 'Mod2', 'Mod3'], dtype='object')\n",
      "Outputs: Index(['c_total', 'Cd', 'Pb'], dtype='object')\n"
     ]
    }
   ],
   "source": [
    "#  Maybe I want average of the replicas, since some have 3 and some 4 replicas\n",
    "data = pd.read_csv('water_data.csv')\n",
    "outputs = data.iloc[:, 0:3]\n",
    "inputs = data.iloc[:, 3:6]\n",
    "\n",
    "print(\"Shape (rows, columns):\\n\", data.shape), \n",
    "print(\"\\nFirst 5 rows:\\n\", data.head(100)), \n",
    "print(\"Inputs:\", inputs.columns), \n",
    "print(\"Outputs:\", outputs.columns)\n"
   ]
  },
  {
   "cell_type": "code",
   "execution_count": 47,
   "metadata": {},
   "outputs": [
    {
     "name": "stdout",
     "output_type": "stream",
     "text": [
      "Matching amount of replicas to data\n"
     ]
    }
   ],
   "source": [
    "# The amount of occurrences in dataset\n",
    "four = (data.groupby(['c_total','Cd','Pb']).size() == 4).sum() \n",
    "three = (data.groupby(['c_total','Cd','Pb']).size() == 3).sum()\n",
    "\n",
    "if four * 4 + three * 3 == len(data):\n",
    "    print(\"Matching amount of replicas to data\")\n",
    "else:\n",
    "    print(\"Not matching amount of replicas to data\")\n"
   ]
  },
  {
   "cell_type": "markdown",
   "metadata": {},
   "source": [
    "## C-index code "
   ]
  },
  {
   "cell_type": "code",
   "execution_count": 48,
   "metadata": {},
   "outputs": [],
   "source": [
    "# In this cell is the fuction that computes the c-index value based on Somers'D statistic.\n",
    "# Use this fuction as the evaluation metric in the Leave-One-Out (LOOCV) and Leave-Replicas-Out (LROCV) cross-validation methods.\n",
    "\n",
    "def cindex(true, pred):\n",
    "    s_d = somersd(true, y=pred, alternative='two-sided')\n",
    "    c_index = (s_d.statistic + 1.0)/2.0\n",
    "    return c_index"
   ]
  },
  {
   "cell_type": "markdown",
   "metadata": {},
   "source": [
    "## Functions"
   ]
  },
  {
   "cell_type": "code",
   "execution_count": 49,
   "metadata": {},
   "outputs": [],
   "source": [
    "# In this cell add the functions that you need for the data analysis part."
   ]
  },
  {
   "cell_type": "markdown",
   "metadata": {},
   "source": [
    "## Results for Leave-One-Out cross-validation"
   ]
  },
  {
   "cell_type": "code",
   "execution_count": 50,
   "metadata": {},
   "outputs": [],
   "source": [
    "# Here run your script for Leave-One-Out cross-validation and print the corresponding results."
   ]
  },
  {
   "cell_type": "markdown",
   "metadata": {},
   "source": [
    "## Results for Leave-Replicas-Out cross-validation"
   ]
  },
  {
   "cell_type": "code",
   "execution_count": 51,
   "metadata": {},
   "outputs": [],
   "source": [
    "# Here run your script for Leave-Replicas-Out cross-validation and print the corresponding results."
   ]
  },
  {
   "cell_type": "markdown",
   "metadata": {},
   "source": [
    "## Plot Leave-One-Out and Leave-Replicas-Out Results"
   ]
  },
  {
   "cell_type": "markdown",
   "metadata": {},
   "source": [
    "Note: You may plot the results as they were presented in the video lecture (refer to MOOC2-Module 2 .pptx slides)."
   ]
  },
  {
   "cell_type": "code",
   "execution_count": null,
   "metadata": {},
   "outputs": [],
   "source": []
  },
  {
   "cell_type": "markdown",
   "metadata": {},
   "source": [
    "## Interpretation of results\n",
    "#### Answer the following questions based on the results obtained\n",
    "1. Which cross-validation approach produced more optimistic results, and why?\n",
    "2. Which cross-validation method provides a better estimate of the model's performance on unseen mixtures? Explain your answer."
   ]
  },
  {
   "cell_type": "markdown",
   "metadata": {},
   "source": [
    "#### Answers:"
   ]
  }
 ],
 "metadata": {
  "kernelspec": {
   "display_name": "Python 3 (ipykernel)",
   "language": "python",
   "name": "python3"
  },
  "language_info": {
   "codemirror_mode": {
    "name": "ipython",
    "version": 3
   },
   "file_extension": ".py",
   "mimetype": "text/x-python",
   "name": "python",
   "nbconvert_exporter": "python",
   "pygments_lexer": "ipython3",
   "version": "3.11.8"
  },
  "toc": {
   "base_numbering": 1,
   "nav_menu": {},
   "number_sections": false,
   "sideBar": true,
   "skip_h1_title": false,
   "title_cell": "Table of Contents",
   "title_sidebar": "Contents",
   "toc_cell": false,
   "toc_position": {},
   "toc_section_display": true,
   "toc_window_display": true
  },
  "varInspector": {
   "cols": {
    "lenName": 16,
    "lenType": 16,
    "lenVar": 40
   },
   "kernels_config": {
    "python": {
     "delete_cmd_postfix": "",
     "delete_cmd_prefix": "del ",
     "library": "var_list.py",
     "varRefreshCmd": "print(var_dic_list())"
    },
    "r": {
     "delete_cmd_postfix": ") ",
     "delete_cmd_prefix": "rm(",
     "library": "var_list.r",
     "varRefreshCmd": "cat(var_dic_list()) "
    }
   },
   "types_to_exclude": [
    "module",
    "function",
    "builtin_function_or_method",
    "instance",
    "_Feature"
   ],
   "window_display": false
  },
  "widgets": {
   "application/vnd.jupyter.widget-state+json": {
    "state": {},
    "version_major": 2,
    "version_minor": 0
   }
  }
 },
 "nbformat": 4,
 "nbformat_minor": 4
}
